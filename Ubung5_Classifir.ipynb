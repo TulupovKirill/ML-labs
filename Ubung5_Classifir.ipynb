{
 "cells": [
  {
   "cell_type": "markdown",
   "metadata": {},
   "source": [
    "Нормализация данных"
   ]
  },
  {
   "cell_type": "code",
   "execution_count": 1,
   "metadata": {},
   "outputs": [],
   "source": [
    "import pandas as pd\n",
    "import matplotlib.pyplot as plt\n",
    "import seaborn as sns\n",
    "import numpy as np\n",
    "import os\n",
    "\n",
    "df = pd.read_csv(os.path.join('..', '..', 'data', 'ForUbung', 'neo_task.csv'))\n",
    "\n",
    "x = lambda x: x.mean() if x.notna().any() else 0\n",
    "group = df.groupby('miss_distance')['relative_velocity'].transform('mean').iat[0]\n",
    "df['relative_velocity'].fillna(group, inplace=True)\n",
    "\n",
    "x = lambda x: x.median() if x.notna().any() else 0\n",
    "group = df.groupby('est_diameter_min')['absolute_magnitude'].transform(x)\n",
    "df['absolute_magnitude'].fillna(group, inplace=True)\n",
    "\n",
    "table = df['est_diameter_max'] - df['est_diameter_min']\n",
    "df['est_diameter_max'].fillna(df['est_diameter_min'] + table.mean(), inplace=True)\n",
    "\n",
    "df['name'].fillna('0 unknow', inplace=True)\n",
    "\n",
    "df['id'].fillna(df['id'].mode()[1], inplace=True)\n",
    "\n",
    "df.loc[df['absolute_magnitude'] == 0]\n",
    "df = df.drop(index=df.loc[df['absolute_magnitude'] == 0].index)\n",
    "\n",
    "dict_patch = {\n",
    "    False: 0,\n",
    "    True: 1\n",
    "}\n",
    "df['hazardous'] = df['hazardous'].map(dict_patch)"
   ]
  },
  {
   "cell_type": "markdown",
   "metadata": {},
   "source": [
    "Баланс классов"
   ]
  },
  {
   "cell_type": "code",
   "execution_count": 2,
   "metadata": {},
   "outputs": [],
   "source": [
    "from imblearn.under_sampling import RandomUnderSampler\n",
    "X = df.drop(['name', 'hazardous', 'est_diameter_max'], axis=1)\n",
    "Y = df['hazardous']\n",
    "rus = RandomUnderSampler()\n",
    "\n",
    "X_resampled, y_resampled = rus.fit_resample(X, Y)"
   ]
  },
  {
   "cell_type": "markdown",
   "metadata": {},
   "source": [
    "Выделение обучающей и тестовой выборки"
   ]
  },
  {
   "cell_type": "code",
   "execution_count": 3,
   "metadata": {},
   "outputs": [],
   "source": [
    "from sklearn.model_selection import train_test_split\n",
    "\n",
    "X_train, X_test, y_train, y_test = train_test_split(X_resampled, y_resampled, train_size=0.2, random_state=42, stratify=y_resampled)"
   ]
  },
  {
   "cell_type": "markdown",
   "metadata": {},
   "source": [
    "# DTs"
   ]
  },
  {
   "cell_type": "code",
   "execution_count": 4,
   "metadata": {},
   "outputs": [
    {
     "name": "stdout",
     "output_type": "stream",
     "text": [
      "Fitting 5 folds for each of 180 candidates, totalling 900 fits\n"
     ]
    }
   ],
   "source": [
    "from sklearn.tree import DecisionTreeClassifier\n",
    "from sklearn.model_selection import GridSearchCV\n",
    "\n",
    "cart_params = {'max_depth': range(1, 11),\n",
    "               \"min_samples_split\": range(2, 20)}\n",
    "\n",
    "# GridSearchCV\n",
    "cart_best_grid = GridSearchCV(DecisionTreeClassifier(random_state=42),\n",
    "                              cart_params,\n",
    "                              cv=5,\n",
    "                              verbose=True).fit(X_train, y_train)"
   ]
  },
  {
   "cell_type": "markdown",
   "metadata": {},
   "source": [
    "Gini"
   ]
  },
  {
   "cell_type": "code",
   "execution_count": 5,
   "metadata": {},
   "outputs": [],
   "source": [
    "clf_gini = DecisionTreeClassifier(criterion='gini', max_depth=3, random_state=0)\n",
    "\n",
    "clf_gini.fit(X_train, y_train)\n",
    "\n",
    "y_pred_gini = clf_gini.predict(X_test)"
   ]
  },
  {
   "cell_type": "code",
   "execution_count": 6,
   "metadata": {},
   "outputs": [
    {
     "name": "stdout",
     "output_type": "stream",
     "text": [
      "0.8737980769230769\n"
     ]
    }
   ],
   "source": [
    "from sklearn.metrics import accuracy_score\n",
    "print(accuracy_score(y_test, y_pred_gini))"
   ]
  },
  {
   "cell_type": "code",
   "execution_count": 7,
   "metadata": {},
   "outputs": [
    {
     "name": "stdout",
     "output_type": "stream",
     "text": [
      "0.8747171945701357\n",
      "0.8737980769230769\n"
     ]
    }
   ],
   "source": [
    "print(clf_gini.score(X_train, y_train))\n",
    "print(clf_gini.score(X_test, y_test))"
   ]
  },
  {
   "cell_type": "code",
   "execution_count": 8,
   "metadata": {},
   "outputs": [
    {
     "name": "stdout",
     "output_type": "stream",
     "text": [
      "              precision    recall  f1-score   support\n",
      "\n",
      "           0       0.99      0.75      0.86      7072\n",
      "           1       0.80      0.99      0.89      7072\n",
      "\n",
      "    accuracy                           0.87     14144\n",
      "   macro avg       0.90      0.87      0.87     14144\n",
      "weighted avg       0.90      0.87      0.87     14144\n",
      "\n"
     ]
    }
   ],
   "source": [
    "from sklearn.metrics import classification_report\n",
    "print(classification_report(y_test, y_pred_gini))"
   ]
  },
  {
   "cell_type": "code",
   "execution_count": 9,
   "metadata": {},
   "outputs": [
    {
     "data": {
      "text/plain": [
       "[Text(0.5416666666666666, 0.875, 'x[4] <= 22.005\\ngini = 0.5\\nsamples = 3536\\nvalue = [1768, 1768]'),\n",
       " Text(0.3333333333333333, 0.625, 'x[3] <= 22028141.0\\ngini = 0.324\\nsamples = 2205\\nvalue = [448, 1757]'),\n",
       " Text(0.16666666666666666, 0.375, 'x[3] <= 12245388.5\\ngini = 0.114\\nsamples = 479\\nvalue = [29, 450]'),\n",
       " Text(0.08333333333333333, 0.125, 'gini = 0.04\\nsamples = 246\\nvalue = [5, 241]'),\n",
       " Text(0.25, 0.125, 'gini = 0.185\\nsamples = 233\\nvalue = [24, 209]'),\n",
       " Text(0.5, 0.375, 'x[2] <= 13707.417\\ngini = 0.368\\nsamples = 1726\\nvalue = [419, 1307]'),\n",
       " Text(0.4166666666666667, 0.125, 'gini = 0.255\\nsamples = 20\\nvalue = [17, 3]'),\n",
       " Text(0.5833333333333334, 0.125, 'gini = 0.36\\nsamples = 1706\\nvalue = [402, 1304]'),\n",
       " Text(0.75, 0.625, 'x[1] <= 0.092\\ngini = 0.016\\nsamples = 1331\\nvalue = [1320, 11]'),\n",
       " Text(0.6666666666666666, 0.375, 'gini = 0.0\\nsamples = 1275\\nvalue = [1275, 0]'),\n",
       " Text(0.8333333333333334, 0.375, 'x[0] <= 3213910.0\\ngini = 0.316\\nsamples = 56\\nvalue = [45, 11]'),\n",
       " Text(0.75, 0.125, 'gini = 0.49\\nsamples = 14\\nvalue = [6, 8]'),\n",
       " Text(0.9166666666666666, 0.125, 'gini = 0.133\\nsamples = 42\\nvalue = [39, 3]')]"
      ]
     },
     "execution_count": 9,
     "metadata": {},
     "output_type": "execute_result"
    },
    {
     "data": {
      "image/png": "[encoded data removed]",
      "text/plain": [
       "<Figure size 640x480 with 1 Axes>"
      ]
     },
     "metadata": {},
     "output_type": "display_data"
    }
   ],
   "source": [
    "from sklearn import tree\n",
    "tree.plot_tree(clf_gini.fit(X_train, y_train))"
   ]
  },
  {
   "cell_type": "code",
   "execution_count": 10,
   "metadata": {},
   "outputs": [
    {
     "name": "stdout",
     "output_type": "stream",
     "text": [
      "|--- absolute_magnitude <= 22.01\n",
      "|   |--- miss_distance <= 22028141.00\n",
      "|   |   |--- miss_distance <= 12245388.50\n",
      "|   |   |   |--- class: 1\n",
      "|   |   |--- miss_distance >  12245388.50\n",
      "|   |   |   |--- class: 1\n",
      "|   |--- miss_distance >  22028141.00\n",
      "|   |   |--- relative_velocity <= 13707.42\n",
      "|   |   |   |--- class: 0\n",
      "|   |   |--- relative_velocity >  13707.42\n",
      "|   |   |   |--- class: 1\n",
      "|--- absolute_magnitude >  22.01\n",
      "|   |--- est_diameter_min <= 0.09\n",
      "|   |   |--- class: 0\n",
      "|   |--- est_diameter_min >  0.09\n",
      "|   |   |--- id <= 3213910.00\n",
      "|   |   |   |--- class: 1\n",
      "|   |   |--- id >  3213910.00\n",
      "|   |   |   |--- class: 0\n",
      "\n"
     ]
    }
   ],
   "source": [
    "from sklearn.tree import export_text\n",
    "\n",
    "tree_rules = export_text(clf_gini, feature_names=list(X.columns))\n",
    "print(tree_rules)"
   ]
  },
  {
   "cell_type": "markdown",
   "metadata": {},
   "source": [
    "Entropy"
   ]
  },
  {
   "cell_type": "code",
   "execution_count": 11,
   "metadata": {},
   "outputs": [],
   "source": [
    "from sklearn.tree import DecisionTreeClassifier\n",
    "\n",
    "clf_entropy = DecisionTreeClassifier(criterion='entropy', max_depth=3, random_state=0)\n",
    "\n",
    "clf_entropy.fit(X_train, y_train)\n",
    "\n",
    "y_pred_entropy = clf_entropy.predict(X_test)\n",
    "\n",
    "y_pred_train_entropy = clf_entropy.predict(X_train)"
   ]
  },
  {
   "cell_type": "code",
   "execution_count": 12,
   "metadata": {},
   "outputs": [
    {
     "name": "stdout",
     "output_type": "stream",
     "text": [
      "0.8737273755656109\n"
     ]
    }
   ],
   "source": [
    "from sklearn.metrics import accuracy_score\n",
    "print(accuracy_score(y_test, y_pred_entropy))"
   ]
  },
  {
   "cell_type": "code",
   "execution_count": 13,
   "metadata": {},
   "outputs": [
    {
     "name": "stdout",
     "output_type": "stream",
     "text": [
      "0.8752828054298643\n",
      "0.8737273755656109\n"
     ]
    }
   ],
   "source": [
    "print(clf_entropy.score(X_train, y_train))\n",
    "print(clf_entropy.score(X_test, y_test))"
   ]
  },
  {
   "cell_type": "code",
   "execution_count": 14,
   "metadata": {},
   "outputs": [],
   "source": [
    "from sklearn.metrics import classification_report, roc_auc_score\n"
   ]
  },
  {
   "cell_type": "code",
   "execution_count": 15,
   "metadata": {},
   "outputs": [
    {
     "name": "stdout",
     "output_type": "stream",
     "text": [
      "              precision    recall  f1-score   support\n",
      "\n",
      "           0       0.99      0.75      0.86      7072\n",
      "           1       0.80      0.99      0.89      7072\n",
      "\n",
      "    accuracy                           0.87     14144\n",
      "   macro avg       0.90      0.87      0.87     14144\n",
      "weighted avg       0.90      0.87      0.87     14144\n",
      "\n"
     ]
    }
   ],
   "source": [
    "print(classification_report(y_test, y_pred_entropy))"
   ]
  },
  {
   "cell_type": "code",
   "execution_count": 16,
   "metadata": {},
   "outputs": [
    {
     "data": {
      "text/plain": [
       "[Text(0.5416666666666666, 0.875, 'x[4] <= 22.005\\ngini = 0.5\\nsamples = 3536\\nvalue = [1768, 1768]'),\n",
       " Text(0.3333333333333333, 0.625, 'x[3] <= 22028141.0\\ngini = 0.324\\nsamples = 2205\\nvalue = [448, 1757]'),\n",
       " Text(0.16666666666666666, 0.375, 'x[3] <= 12245388.5\\ngini = 0.114\\nsamples = 479\\nvalue = [29, 450]'),\n",
       " Text(0.08333333333333333, 0.125, 'gini = 0.04\\nsamples = 246\\nvalue = [5, 241]'),\n",
       " Text(0.25, 0.125, 'gini = 0.185\\nsamples = 233\\nvalue = [24, 209]'),\n",
       " Text(0.5, 0.375, 'x[2] <= 13707.417\\ngini = 0.368\\nsamples = 1726\\nvalue = [419, 1307]'),\n",
       " Text(0.4166666666666667, 0.125, 'gini = 0.255\\nsamples = 20\\nvalue = [17, 3]'),\n",
       " Text(0.5833333333333334, 0.125, 'gini = 0.36\\nsamples = 1706\\nvalue = [402, 1304]'),\n",
       " Text(0.75, 0.625, 'x[1] <= 0.092\\ngini = 0.016\\nsamples = 1331\\nvalue = [1320, 11]'),\n",
       " Text(0.6666666666666666, 0.375, 'gini = 0.0\\nsamples = 1275\\nvalue = [1275, 0]'),\n",
       " Text(0.8333333333333334, 0.375, 'x[0] <= 3213910.0\\ngini = 0.316\\nsamples = 56\\nvalue = [45, 11]'),\n",
       " Text(0.75, 0.125, 'gini = 0.49\\nsamples = 14\\nvalue = [6, 8]'),\n",
       " Text(0.9166666666666666, 0.125, 'gini = 0.133\\nsamples = 42\\nvalue = [39, 3]')]"
      ]
     },
     "execution_count": 16,
     "metadata": {},
     "output_type": "execute_result"
    },
    {
     "data": {
      "image/png": "[encoded data removed]",
      "text/plain": [
       "<Figure size 640x480 with 1 Axes>"
      ]
     },
     "metadata": {},
     "output_type": "display_data"
    }
   ],
   "source": [
    "tree.plot_tree(clf_gini.fit(X_train, y_train))"
   ]
  },
  {
   "cell_type": "code",
   "execution_count": 17,
   "metadata": {},
   "outputs": [
    {
     "name": "stdout",
     "output_type": "stream",
     "text": [
      "|--- absolute_magnitude <= 22.05\n",
      "|   |--- miss_distance <= 22028141.00\n",
      "|   |   |--- absolute_magnitude <= 22.01\n",
      "|   |   |   |--- class: 1\n",
      "|   |   |--- absolute_magnitude >  22.01\n",
      "|   |   |   |--- class: 0\n",
      "|   |--- miss_distance >  22028141.00\n",
      "|   |   |--- relative_velocity <= 13707.42\n",
      "|   |   |   |--- class: 0\n",
      "|   |   |--- relative_velocity >  13707.42\n",
      "|   |   |   |--- class: 1\n",
      "|--- absolute_magnitude >  22.05\n",
      "|   |--- est_diameter_min <= 0.09\n",
      "|   |   |--- class: 0\n",
      "|   |--- est_diameter_min >  0.09\n",
      "|   |   |--- id <= 3213910.00\n",
      "|   |   |   |--- class: 1\n",
      "|   |   |--- id >  3213910.00\n",
      "|   |   |   |--- class: 0\n",
      "\n"
     ]
    }
   ],
   "source": [
    "from sklearn.tree import export_text\n",
    "\n",
    "tree_rules = export_text(clf_entropy, feature_names=list(X.columns))\n",
    "print(tree_rules)"
   ]
  },
  {
   "cell_type": "code",
   "execution_count": 18,
   "metadata": {},
   "outputs": [
    {
     "data": {
      "text/html": [
       "<style type=\"text/css\">\n",
       "#T_38ecd_row9_col1 {\n",
       "  background-color: lightgreen;\n",
       "}\n",
       "</style>\n",
       "<table id=\"T_38ecd\">\n",
       "  <thead>\n",
       "    <tr>\n",
       "      <th class=\"blank level0\" >&nbsp;</th>\n",
       "      <th id=\"T_38ecd_level0_col0\" class=\"col_heading level0 col0\" >Description</th>\n",
       "      <th id=\"T_38ecd_level0_col1\" class=\"col_heading level0 col1\" >Value</th>\n",
       "    </tr>\n",
       "  </thead>\n",
       "  <tbody>\n",
       "    <tr>\n",
       "      <th id=\"T_38ecd_level0_row0\" class=\"row_heading level0 row0\" >0</th>\n",
       "      <td id=\"T_38ecd_row0_col0\" class=\"data row0 col0\" >Session id</td>\n",
       "      <td id=\"T_38ecd_row0_col1\" class=\"data row0 col1\" >555</td>\n",
       "    </tr>\n",
       "    <tr>\n",
       "      <th id=\"T_38ecd_level0_row1\" class=\"row_heading level0 row1\" >1</th>\n",
       "      <td id=\"T_38ecd_row1_col0\" class=\"data row1 col0\" >Target</td>\n",
       "      <td id=\"T_38ecd_row1_col1\" class=\"data row1 col1\" >hazardous</td>\n",
       "    </tr>\n",
       "    <tr>\n",
       "      <th id=\"T_38ecd_level0_row2\" class=\"row_heading level0 row2\" >2</th>\n",
       "      <td id=\"T_38ecd_row2_col0\" class=\"data row2 col0\" >Target type</td>\n",
       "      <td id=\"T_38ecd_row2_col1\" class=\"data row2 col1\" >Binary</td>\n",
       "    </tr>\n",
       "    <tr>\n",
       "      <th id=\"T_38ecd_level0_row3\" class=\"row_heading level0 row3\" >3</th>\n",
       "      <td id=\"T_38ecd_row3_col0\" class=\"data row3 col0\" >Original data shape</td>\n",
       "      <td id=\"T_38ecd_row3_col1\" class=\"data row3 col1\" >(90835, 8)</td>\n",
       "    </tr>\n",
       "    <tr>\n",
       "      <th id=\"T_38ecd_level0_row4\" class=\"row_heading level0 row4\" >4</th>\n",
       "      <td id=\"T_38ecd_row4_col0\" class=\"data row4 col0\" >Transformed data shape</td>\n",
       "      <td id=\"T_38ecd_row4_col1\" class=\"data row4 col1\" >(90835, 7)</td>\n",
       "    </tr>\n",
       "    <tr>\n",
       "      <th id=\"T_38ecd_level0_row5\" class=\"row_heading level0 row5\" >5</th>\n",
       "      <td id=\"T_38ecd_row5_col0\" class=\"data row5 col0\" >Transformed train set shape</td>\n",
       "      <td id=\"T_38ecd_row5_col1\" class=\"data row5 col1\" >(27250, 7)</td>\n",
       "    </tr>\n",
       "    <tr>\n",
       "      <th id=\"T_38ecd_level0_row6\" class=\"row_heading level0 row6\" >6</th>\n",
       "      <td id=\"T_38ecd_row6_col0\" class=\"data row6 col0\" >Transformed test set shape</td>\n",
       "      <td id=\"T_38ecd_row6_col1\" class=\"data row6 col1\" >(63585, 7)</td>\n",
       "    </tr>\n",
       "    <tr>\n",
       "      <th id=\"T_38ecd_level0_row7\" class=\"row_heading level0 row7\" >7</th>\n",
       "      <td id=\"T_38ecd_row7_col0\" class=\"data row7 col0\" >Ignore features</td>\n",
       "      <td id=\"T_38ecd_row7_col1\" class=\"data row7 col1\" >1</td>\n",
       "    </tr>\n",
       "    <tr>\n",
       "      <th id=\"T_38ecd_level0_row8\" class=\"row_heading level0 row8\" >8</th>\n",
       "      <td id=\"T_38ecd_row8_col0\" class=\"data row8 col0\" >Numeric features</td>\n",
       "      <td id=\"T_38ecd_row8_col1\" class=\"data row8 col1\" >6</td>\n",
       "    </tr>\n",
       "    <tr>\n",
       "      <th id=\"T_38ecd_level0_row9\" class=\"row_heading level0 row9\" >9</th>\n",
       "      <td id=\"T_38ecd_row9_col0\" class=\"data row9 col0\" >Preprocess</td>\n",
       "      <td id=\"T_38ecd_row9_col1\" class=\"data row9 col1\" >True</td>\n",
       "    </tr>\n",
       "    <tr>\n",
       "      <th id=\"T_38ecd_level0_row10\" class=\"row_heading level0 row10\" >10</th>\n",
       "      <td id=\"T_38ecd_row10_col0\" class=\"data row10 col0\" >Imputation type</td>\n",
       "      <td id=\"T_38ecd_row10_col1\" class=\"data row10 col1\" >simple</td>\n",
       "    </tr>\n",
       "    <tr>\n",
       "      <th id=\"T_38ecd_level0_row11\" class=\"row_heading level0 row11\" >11</th>\n",
       "      <td id=\"T_38ecd_row11_col0\" class=\"data row11 col0\" >Numeric imputation</td>\n",
       "      <td id=\"T_38ecd_row11_col1\" class=\"data row11 col1\" >mean</td>\n",
       "    </tr>\n",
       "    <tr>\n",
       "      <th id=\"T_38ecd_level0_row12\" class=\"row_heading level0 row12\" >12</th>\n",
       "      <td id=\"T_38ecd_row12_col0\" class=\"data row12 col0\" >Categorical imputation</td>\n",
       "      <td id=\"T_38ecd_row12_col1\" class=\"data row12 col1\" >mode</td>\n",
       "    </tr>\n",
       "    <tr>\n",
       "      <th id=\"T_38ecd_level0_row13\" class=\"row_heading level0 row13\" >13</th>\n",
       "      <td id=\"T_38ecd_row13_col0\" class=\"data row13 col0\" >Fold Generator</td>\n",
       "      <td id=\"T_38ecd_row13_col1\" class=\"data row13 col1\" >StratifiedKFold</td>\n",
       "    </tr>\n",
       "    <tr>\n",
       "      <th id=\"T_38ecd_level0_row14\" class=\"row_heading level0 row14\" >14</th>\n",
       "      <td id=\"T_38ecd_row14_col0\" class=\"data row14 col0\" >Fold Number</td>\n",
       "      <td id=\"T_38ecd_row14_col1\" class=\"data row14 col1\" >10</td>\n",
       "    </tr>\n",
       "    <tr>\n",
       "      <th id=\"T_38ecd_level0_row15\" class=\"row_heading level0 row15\" >15</th>\n",
       "      <td id=\"T_38ecd_row15_col0\" class=\"data row15 col0\" >CPU Jobs</td>\n",
       "      <td id=\"T_38ecd_row15_col1\" class=\"data row15 col1\" >-1</td>\n",
       "    </tr>\n",
       "    <tr>\n",
       "      <th id=\"T_38ecd_level0_row16\" class=\"row_heading level0 row16\" >16</th>\n",
       "      <td id=\"T_38ecd_row16_col0\" class=\"data row16 col0\" >Use GPU</td>\n",
       "      <td id=\"T_38ecd_row16_col1\" class=\"data row16 col1\" >False</td>\n",
       "    </tr>\n",
       "    <tr>\n",
       "      <th id=\"T_38ecd_level0_row17\" class=\"row_heading level0 row17\" >17</th>\n",
       "      <td id=\"T_38ecd_row17_col0\" class=\"data row17 col0\" >Log Experiment</td>\n",
       "      <td id=\"T_38ecd_row17_col1\" class=\"data row17 col1\" >False</td>\n",
       "    </tr>\n",
       "    <tr>\n",
       "      <th id=\"T_38ecd_level0_row18\" class=\"row_heading level0 row18\" >18</th>\n",
       "      <td id=\"T_38ecd_row18_col0\" class=\"data row18 col0\" >Experiment Name</td>\n",
       "      <td id=\"T_38ecd_row18_col1\" class=\"data row18 col1\" >clf-default-name</td>\n",
       "    </tr>\n",
       "    <tr>\n",
       "      <th id=\"T_38ecd_level0_row19\" class=\"row_heading level0 row19\" >19</th>\n",
       "      <td id=\"T_38ecd_row19_col0\" class=\"data row19 col0\" >USI</td>\n",
       "      <td id=\"T_38ecd_row19_col1\" class=\"data row19 col1\" >964b</td>\n",
       "    </tr>\n",
       "  </tbody>\n",
       "</table>\n"
      ],
      "text/plain": [
       "<pandas.io.formats.style.Styler at 0x146528ebbd0>"
      ]
     },
     "metadata": {},
     "output_type": "display_data"
    },
    {
     "data": {
      "text/html": [
       "<div>\n",
       "<style scoped>\n",
       "    .dataframe tbody tr th:only-of-type {\n",
       "        vertical-align: middle;\n",
       "    }\n",
       "\n",
       "    .dataframe tbody tr th {\n",
       "        vertical-align: top;\n",
       "    }\n",
       "\n",
       "    .dataframe thead th {\n",
       "        text-align: right;\n",
       "    }\n",
       "</style>\n",
       "<table border=\"1\" class=\"dataframe\">\n",
       "  <thead>\n",
       "    <tr style=\"text-align: right;\">\n",
       "      <th></th>\n",
       "      <th>Name</th>\n",
       "      <th>Reference</th>\n",
       "      <th>Turbo</th>\n",
       "    </tr>\n",
       "    <tr>\n",
       "      <th>ID</th>\n",
       "      <th></th>\n",
       "      <th></th>\n",
       "      <th></th>\n",
       "    </tr>\n",
       "  </thead>\n",
       "  <tbody>\n",
       "    <tr>\n",
       "      <th>lr</th>\n",
       "      <td>Logistic Regression</td>\n",
       "      <td>sklearn.linear_model._logistic.LogisticRegression</td>\n",
       "      <td>True</td>\n",
       "    </tr>\n",
       "    <tr>\n",
       "      <th>knn</th>\n",
       "      <td>K Neighbors Classifier</td>\n",
       "      <td>sklearn.neighbors._classification.KNeighborsCl...</td>\n",
       "      <td>True</td>\n",
       "    </tr>\n",
       "    <tr>\n",
       "      <th>nb</th>\n",
       "      <td>Naive Bayes</td>\n",
       "      <td>sklearn.naive_bayes.GaussianNB</td>\n",
       "      <td>True</td>\n",
       "    </tr>\n",
       "    <tr>\n",
       "      <th>dt</th>\n",
       "      <td>Decision Tree Classifier</td>\n",
       "      <td>sklearn.tree._classes.DecisionTreeClassifier</td>\n",
       "      <td>True</td>\n",
       "    </tr>\n",
       "    <tr>\n",
       "      <th>svm</th>\n",
       "      <td>SVM - Linear Kernel</td>\n",
       "      <td>sklearn.linear_model._stochastic_gradient.SGDC...</td>\n",
       "      <td>True</td>\n",
       "    </tr>\n",
       "    <tr>\n",
       "      <th>rbfsvm</th>\n",
       "      <td>SVM - Radial Kernel</td>\n",
       "      <td>sklearn.svm._classes.SVC</td>\n",
       "      <td>False</td>\n",
       "    </tr>\n",
       "    <tr>\n",
       "      <th>gpc</th>\n",
       "      <td>Gaussian Process Classifier</td>\n",
       "      <td>sklearn.gaussian_process._gpc.GaussianProcessC...</td>\n",
       "      <td>False</td>\n",
       "    </tr>\n",
       "    <tr>\n",
       "      <th>mlp</th>\n",
       "      <td>MLP Classifier</td>\n",
       "      <td>sklearn.neural_network._multilayer_perceptron....</td>\n",
       "      <td>False</td>\n",
       "    </tr>\n",
       "    <tr>\n",
       "      <th>ridge</th>\n",
       "      <td>Ridge Classifier</td>\n",
       "      <td>sklearn.linear_model._ridge.RidgeClassifier</td>\n",
       "      <td>True</td>\n",
       "    </tr>\n",
       "    <tr>\n",
       "      <th>rf</th>\n",
       "      <td>Random Forest Classifier</td>\n",
       "      <td>sklearn.ensemble._forest.RandomForestClassifier</td>\n",
       "      <td>True</td>\n",
       "    </tr>\n",
       "    <tr>\n",
       "      <th>qda</th>\n",
       "      <td>Quadratic Discriminant Analysis</td>\n",
       "      <td>sklearn.discriminant_analysis.QuadraticDiscrim...</td>\n",
       "      <td>True</td>\n",
       "    </tr>\n",
       "    <tr>\n",
       "      <th>ada</th>\n",
       "      <td>Ada Boost Classifier</td>\n",
       "      <td>sklearn.ensemble._weight_boosting.AdaBoostClas...</td>\n",
       "      <td>True</td>\n",
       "    </tr>\n",
       "    <tr>\n",
       "      <th>gbc</th>\n",
       "      <td>Gradient Boosting Classifier</td>\n",
       "      <td>sklearn.ensemble._gb.GradientBoostingClassifier</td>\n",
       "      <td>True</td>\n",
       "    </tr>\n",
       "    <tr>\n",
       "      <th>lda</th>\n",
       "      <td>Linear Discriminant Analysis</td>\n",
       "      <td>sklearn.discriminant_analysis.LinearDiscrimina...</td>\n",
       "      <td>True</td>\n",
       "    </tr>\n",
       "    <tr>\n",
       "      <th>et</th>\n",
       "      <td>Extra Trees Classifier</td>\n",
       "      <td>sklearn.ensemble._forest.ExtraTreesClassifier</td>\n",
       "      <td>True</td>\n",
       "    </tr>\n",
       "    <tr>\n",
       "      <th>lightgbm</th>\n",
       "      <td>Light Gradient Boosting Machine</td>\n",
       "      <td>lightgbm.sklearn.LGBMClassifier</td>\n",
       "      <td>True</td>\n",
       "    </tr>\n",
       "    <tr>\n",
       "      <th>catboost</th>\n",
       "      <td>CatBoost Classifier</td>\n",
       "      <td>catboost.core.CatBoostClassifier</td>\n",
       "      <td>True</td>\n",
       "    </tr>\n",
       "    <tr>\n",
       "      <th>dummy</th>\n",
       "      <td>Dummy Classifier</td>\n",
       "      <td>sklearn.dummy.DummyClassifier</td>\n",
       "      <td>True</td>\n",
       "    </tr>\n",
       "  </tbody>\n",
       "</table>\n",
       "</div>"
      ],
      "text/plain": [
       "                                     Name  \\\n",
       "ID                                          \n",
       "lr                    Logistic Regression   \n",
       "knn                K Neighbors Classifier   \n",
       "nb                            Naive Bayes   \n",
       "dt               Decision Tree Classifier   \n",
       "svm                   SVM - Linear Kernel   \n",
       "rbfsvm                SVM - Radial Kernel   \n",
       "gpc           Gaussian Process Classifier   \n",
       "mlp                        MLP Classifier   \n",
       "ridge                    Ridge Classifier   \n",
       "rf               Random Forest Classifier   \n",
       "qda       Quadratic Discriminant Analysis   \n",
       "ada                  Ada Boost Classifier   \n",
       "gbc          Gradient Boosting Classifier   \n",
       "lda          Linear Discriminant Analysis   \n",
       "et                 Extra Trees Classifier   \n",
       "lightgbm  Light Gradient Boosting Machine   \n",
       "catboost              CatBoost Classifier   \n",
       "dummy                    Dummy Classifier   \n",
       "\n",
       "                                                  Reference  Turbo  \n",
       "ID                                                                  \n",
       "lr        sklearn.linear_model._logistic.LogisticRegression   True  \n",
       "knn       sklearn.neighbors._classification.KNeighborsCl...   True  \n",
       "nb                           sklearn.naive_bayes.GaussianNB   True  \n",
       "dt             sklearn.tree._classes.DecisionTreeClassifier   True  \n",
       "svm       sklearn.linear_model._stochastic_gradient.SGDC...   True  \n",
       "rbfsvm                             sklearn.svm._classes.SVC  False  \n",
       "gpc       sklearn.gaussian_process._gpc.GaussianProcessC...  False  \n",
       "mlp       sklearn.neural_network._multilayer_perceptron....  False  \n",
       "ridge           sklearn.linear_model._ridge.RidgeClassifier   True  \n",
       "rf          sklearn.ensemble._forest.RandomForestClassifier   True  \n",
       "qda       sklearn.discriminant_analysis.QuadraticDiscrim...   True  \n",
       "ada       sklearn.ensemble._weight_boosting.AdaBoostClas...   True  \n",
       "gbc         sklearn.ensemble._gb.GradientBoostingClassifier   True  \n",
       "lda       sklearn.discriminant_analysis.LinearDiscrimina...   True  \n",
       "et            sklearn.ensemble._forest.ExtraTreesClassifier   True  \n",
       "lightgbm                    lightgbm.sklearn.LGBMClassifier   True  \n",
       "catboost                   catboost.core.CatBoostClassifier   True  \n",
       "dummy                         sklearn.dummy.DummyClassifier   True  "
      ]
     },
     "execution_count": 18,
     "metadata": {},
     "output_type": "execute_result"
    }
   ],
   "source": [
    "from pycaret.classification import *\n",
    "\n",
    "setup(data=df,  target='hazardous',ignore_features=['name'] , session_id=555, train_size=0.3, preprocess=True)\n",
    "\n",
    "models()"
   ]
  },
  {
   "cell_type": "code",
   "execution_count": 19,
   "metadata": {},
   "outputs": [
    {
     "data": {
      "text/html": [],
      "text/plain": [
       "<IPython.core.display.HTML object>"
      ]
     },
     "metadata": {},
     "output_type": "display_data"
    },
    {
     "data": {
      "text/html": [
       "<style type=\"text/css\">\n",
       "#T_2390b_row10_col0, #T_2390b_row10_col1, #T_2390b_row10_col2, #T_2390b_row10_col3, #T_2390b_row10_col4, #T_2390b_row10_col5, #T_2390b_row10_col6 {\n",
       "  background: yellow;\n",
       "}\n",
       "</style>\n",
       "<table id=\"T_2390b\">\n",
       "  <thead>\n",
       "    <tr>\n",
       "      <th class=\"blank level0\" >&nbsp;</th>\n",
       "      <th id=\"T_2390b_level0_col0\" class=\"col_heading level0 col0\" >Accuracy</th>\n",
       "      <th id=\"T_2390b_level0_col1\" class=\"col_heading level0 col1\" >AUC</th>\n",
       "      <th id=\"T_2390b_level0_col2\" class=\"col_heading level0 col2\" >Recall</th>\n",
       "      <th id=\"T_2390b_level0_col3\" class=\"col_heading level0 col3\" >Prec.</th>\n",
       "      <th id=\"T_2390b_level0_col4\" class=\"col_heading level0 col4\" >F1</th>\n",
       "      <th id=\"T_2390b_level0_col5\" class=\"col_heading level0 col5\" >Kappa</th>\n",
       "      <th id=\"T_2390b_level0_col6\" class=\"col_heading level0 col6\" >MCC</th>\n",
       "    </tr>\n",
       "    <tr>\n",
       "      <th class=\"index_name level0\" >Fold</th>\n",
       "      <th class=\"blank col0\" >&nbsp;</th>\n",
       "      <th class=\"blank col1\" >&nbsp;</th>\n",
       "      <th class=\"blank col2\" >&nbsp;</th>\n",
       "      <th class=\"blank col3\" >&nbsp;</th>\n",
       "      <th class=\"blank col4\" >&nbsp;</th>\n",
       "      <th class=\"blank col5\" >&nbsp;</th>\n",
       "      <th class=\"blank col6\" >&nbsp;</th>\n",
       "    </tr>\n",
       "  </thead>\n",
       "  <tbody>\n",
       "    <tr>\n",
       "      <th id=\"T_2390b_level0_row0\" class=\"row_heading level0 row0\" >0</th>\n",
       "      <td id=\"T_2390b_row0_col0\" class=\"data row0 col0\" >0.9130</td>\n",
       "      <td id=\"T_2390b_row0_col1\" class=\"data row0 col1\" >0.7650</td>\n",
       "      <td id=\"T_2390b_row0_col2\" class=\"data row0 col2\" >0.5811</td>\n",
       "      <td id=\"T_2390b_row0_col3\" class=\"data row0 col3\" >0.5500</td>\n",
       "      <td id=\"T_2390b_row0_col4\" class=\"data row0 col4\" >0.5651</td>\n",
       "      <td id=\"T_2390b_row0_col5\" class=\"data row0 col5\" >0.5169</td>\n",
       "      <td id=\"T_2390b_row0_col6\" class=\"data row0 col6\" >0.5171</td>\n",
       "    </tr>\n",
       "    <tr>\n",
       "      <th id=\"T_2390b_level0_row1\" class=\"row_heading level0 row1\" >1</th>\n",
       "      <td id=\"T_2390b_row1_col0\" class=\"data row1 col0\" >0.9046</td>\n",
       "      <td id=\"T_2390b_row1_col1\" class=\"data row1 col1\" >0.7333</td>\n",
       "      <td id=\"T_2390b_row1_col2\" class=\"data row1 col2\" >0.5208</td>\n",
       "      <td id=\"T_2390b_row1_col3\" class=\"data row1 col3\" >0.5092</td>\n",
       "      <td id=\"T_2390b_row1_col4\" class=\"data row1 col4\" >0.5149</td>\n",
       "      <td id=\"T_2390b_row1_col5\" class=\"data row1 col5\" >0.4620</td>\n",
       "      <td id=\"T_2390b_row1_col6\" class=\"data row1 col6\" >0.4621</td>\n",
       "    </tr>\n",
       "    <tr>\n",
       "      <th id=\"T_2390b_level0_row2\" class=\"row_heading level0 row2\" >2</th>\n",
       "      <td id=\"T_2390b_row2_col0\" class=\"data row2 col0\" >0.8972</td>\n",
       "      <td id=\"T_2390b_row2_col1\" class=\"data row2 col1\" >0.7124</td>\n",
       "      <td id=\"T_2390b_row2_col2\" class=\"data row2 col2\" >0.4830</td>\n",
       "      <td id=\"T_2390b_row2_col3\" class=\"data row2 col3\" >0.4723</td>\n",
       "      <td id=\"T_2390b_row2_col4\" class=\"data row2 col4\" >0.4776</td>\n",
       "      <td id=\"T_2390b_row2_col5\" class=\"data row2 col5\" >0.4206</td>\n",
       "      <td id=\"T_2390b_row2_col6\" class=\"data row2 col6\" >0.4207</td>\n",
       "    </tr>\n",
       "    <tr>\n",
       "      <th id=\"T_2390b_level0_row3\" class=\"row_heading level0 row3\" >3</th>\n",
       "      <td id=\"T_2390b_row3_col0\" class=\"data row3 col0\" >0.9068</td>\n",
       "      <td id=\"T_2390b_row3_col1\" class=\"data row3 col1\" >0.7497</td>\n",
       "      <td id=\"T_2390b_row3_col2\" class=\"data row3 col2\" >0.5547</td>\n",
       "      <td id=\"T_2390b_row3_col3\" class=\"data row3 col3\" >0.5194</td>\n",
       "      <td id=\"T_2390b_row3_col4\" class=\"data row3 col4\" >0.5365</td>\n",
       "      <td id=\"T_2390b_row3_col5\" class=\"data row3 col5\" >0.4847</td>\n",
       "      <td id=\"T_2390b_row3_col6\" class=\"data row3 col6\" >0.4851</td>\n",
       "    </tr>\n",
       "    <tr>\n",
       "      <th id=\"T_2390b_level0_row4\" class=\"row_heading level0 row4\" >4</th>\n",
       "      <td id=\"T_2390b_row4_col0\" class=\"data row4 col0\" >0.9127</td>\n",
       "      <td id=\"T_2390b_row4_col1\" class=\"data row4 col1\" >0.7395</td>\n",
       "      <td id=\"T_2390b_row4_col2\" class=\"data row4 col2\" >0.5245</td>\n",
       "      <td id=\"T_2390b_row4_col3\" class=\"data row4 col3\" >0.5538</td>\n",
       "      <td id=\"T_2390b_row4_col4\" class=\"data row4 col4\" >0.5388</td>\n",
       "      <td id=\"T_2390b_row4_col5\" class=\"data row4 col5\" >0.4906</td>\n",
       "      <td id=\"T_2390b_row4_col6\" class=\"data row4 col6\" >0.4908</td>\n",
       "    </tr>\n",
       "    <tr>\n",
       "      <th id=\"T_2390b_level0_row5\" class=\"row_heading level0 row5\" >5</th>\n",
       "      <td id=\"T_2390b_row5_col0\" class=\"data row5 col0\" >0.9013</td>\n",
       "      <td id=\"T_2390b_row5_col1\" class=\"data row5 col1\" >0.7231</td>\n",
       "      <td id=\"T_2390b_row5_col2\" class=\"data row5 col2\" >0.5019</td>\n",
       "      <td id=\"T_2390b_row5_col3\" class=\"data row5 col3\" >0.4926</td>\n",
       "      <td id=\"T_2390b_row5_col4\" class=\"data row5 col4\" >0.4972</td>\n",
       "      <td id=\"T_2390b_row5_col5\" class=\"data row5 col5\" >0.4425</td>\n",
       "      <td id=\"T_2390b_row5_col6\" class=\"data row5 col6\" >0.4425</td>\n",
       "    </tr>\n",
       "    <tr>\n",
       "      <th id=\"T_2390b_level0_row6\" class=\"row_heading level0 row6\" >6</th>\n",
       "      <td id=\"T_2390b_row6_col0\" class=\"data row6 col0\" >0.9046</td>\n",
       "      <td id=\"T_2390b_row6_col1\" class=\"data row6 col1\" >0.7434</td>\n",
       "      <td id=\"T_2390b_row6_col2\" class=\"data row6 col2\" >0.5434</td>\n",
       "      <td id=\"T_2390b_row6_col3\" class=\"data row6 col3\" >0.5088</td>\n",
       "      <td id=\"T_2390b_row6_col4\" class=\"data row6 col4\" >0.5255</td>\n",
       "      <td id=\"T_2390b_row6_col5\" class=\"data row6 col5\" >0.4726</td>\n",
       "      <td id=\"T_2390b_row6_col6\" class=\"data row6 col6\" >0.4729</td>\n",
       "    </tr>\n",
       "    <tr>\n",
       "      <th id=\"T_2390b_level0_row7\" class=\"row_heading level0 row7\" >7</th>\n",
       "      <td id=\"T_2390b_row7_col0\" class=\"data row7 col0\" >0.9053</td>\n",
       "      <td id=\"T_2390b_row7_col1\" class=\"data row7 col1\" >0.7371</td>\n",
       "      <td id=\"T_2390b_row7_col2\" class=\"data row7 col2\" >0.5283</td>\n",
       "      <td id=\"T_2390b_row7_col3\" class=\"data row7 col3\" >0.5128</td>\n",
       "      <td id=\"T_2390b_row7_col4\" class=\"data row7 col4\" >0.5204</td>\n",
       "      <td id=\"T_2390b_row7_col5\" class=\"data row7 col5\" >0.4679</td>\n",
       "      <td id=\"T_2390b_row7_col6\" class=\"data row7 col6\" >0.4680</td>\n",
       "    </tr>\n",
       "    <tr>\n",
       "      <th id=\"T_2390b_level0_row8\" class=\"row_heading level0 row8\" >8</th>\n",
       "      <td id=\"T_2390b_row8_col0\" class=\"data row8 col0\" >0.9057</td>\n",
       "      <td id=\"T_2390b_row8_col1\" class=\"data row8 col1\" >0.7281</td>\n",
       "      <td id=\"T_2390b_row8_col2\" class=\"data row8 col2\" >0.5075</td>\n",
       "      <td id=\"T_2390b_row8_col3\" class=\"data row8 col3\" >0.5172</td>\n",
       "      <td id=\"T_2390b_row8_col4\" class=\"data row8 col4\" >0.5123</td>\n",
       "      <td id=\"T_2390b_row8_col5\" class=\"data row8 col5\" >0.4601</td>\n",
       "      <td id=\"T_2390b_row8_col6\" class=\"data row8 col6\" >0.4602</td>\n",
       "    </tr>\n",
       "    <tr>\n",
       "      <th id=\"T_2390b_level0_row9\" class=\"row_heading level0 row9\" >9</th>\n",
       "      <td id=\"T_2390b_row9_col0\" class=\"data row9 col0\" >0.9061</td>\n",
       "      <td id=\"T_2390b_row9_col1\" class=\"data row9 col1\" >0.7367</td>\n",
       "      <td id=\"T_2390b_row9_col2\" class=\"data row9 col2\" >0.5263</td>\n",
       "      <td id=\"T_2390b_row9_col3\" class=\"data row9 col3\" >0.5185</td>\n",
       "      <td id=\"T_2390b_row9_col4\" class=\"data row9 col4\" >0.5224</td>\n",
       "      <td id=\"T_2390b_row9_col5\" class=\"data row9 col5\" >0.4703</td>\n",
       "      <td id=\"T_2390b_row9_col6\" class=\"data row9 col6\" >0.4703</td>\n",
       "    </tr>\n",
       "    <tr>\n",
       "      <th id=\"T_2390b_level0_row10\" class=\"row_heading level0 row10\" >Mean</th>\n",
       "      <td id=\"T_2390b_row10_col0\" class=\"data row10 col0\" >0.9057</td>\n",
       "      <td id=\"T_2390b_row10_col1\" class=\"data row10 col1\" >0.7368</td>\n",
       "      <td id=\"T_2390b_row10_col2\" class=\"data row10 col2\" >0.5272</td>\n",
       "      <td id=\"T_2390b_row10_col3\" class=\"data row10 col3\" >0.5155</td>\n",
       "      <td id=\"T_2390b_row10_col4\" class=\"data row10 col4\" >0.5211</td>\n",
       "      <td id=\"T_2390b_row10_col5\" class=\"data row10 col5\" >0.4688</td>\n",
       "      <td id=\"T_2390b_row10_col6\" class=\"data row10 col6\" >0.4690</td>\n",
       "    </tr>\n",
       "    <tr>\n",
       "      <th id=\"T_2390b_level0_row11\" class=\"row_heading level0 row11\" >Std</th>\n",
       "      <td id=\"T_2390b_row11_col0\" class=\"data row11 col0\" >0.0044</td>\n",
       "      <td id=\"T_2390b_row11_col1\" class=\"data row11 col1\" >0.0137</td>\n",
       "      <td id=\"T_2390b_row11_col2\" class=\"data row11 col2\" >0.0264</td>\n",
       "      <td id=\"T_2390b_row11_col3\" class=\"data row11 col3\" >0.0227</td>\n",
       "      <td id=\"T_2390b_row11_col4\" class=\"data row11 col4\" >0.0226</td>\n",
       "      <td id=\"T_2390b_row11_col5\" class=\"data row11 col5\" >0.0249</td>\n",
       "      <td id=\"T_2390b_row11_col6\" class=\"data row11 col6\" >0.0250</td>\n",
       "    </tr>\n",
       "  </tbody>\n",
       "</table>\n"
      ],
      "text/plain": [
       "<pandas.io.formats.style.Styler at 0x146542ea910>"
      ]
     },
     "metadata": {},
     "output_type": "display_data"
    },
    {
     "data": {
      "text/html": [],
      "text/plain": [
       "<IPython.core.display.HTML object>"
      ]
     },
     "metadata": {},
     "output_type": "display_data"
    }
   ],
   "source": [
    "dt = create_model(estimator='dt')"
   ]
  },
  {
   "cell_type": "markdown",
   "metadata": {},
   "source": [
    "CART"
   ]
  },
  {
   "cell_type": "code",
   "execution_count": 20,
   "metadata": {},
   "outputs": [
    {
     "name": "stdout",
     "output_type": "stream",
     "text": [
      "              precision    recall  f1-score   support\n",
      "\n",
      "           0       0.82      0.84      0.83      7072\n",
      "           1       0.83      0.82      0.83      7072\n",
      "\n",
      "    accuracy                           0.83     14144\n",
      "   macro avg       0.83      0.83      0.83     14144\n",
      "weighted avg       0.83      0.83      0.83     14144\n",
      "\n"
     ]
    }
   ],
   "source": [
    "cart_model = DecisionTreeClassifier(random_state=17).fit(X_train, y_train)\n",
    "\n",
    "\n",
    "y_pred = cart_model.predict(X_test)\n",
    "y_prob = cart_model.predict_proba(X_test)[:, 1]\n",
    "print(classification_report(y_test, y_pred))"
   ]
  },
  {
   "cell_type": "code",
   "execution_count": 21,
   "metadata": {},
   "outputs": [
    {
     "data": {
      "text/plain": [
       "0.8286906108597285"
      ]
     },
     "execution_count": 21,
     "metadata": {},
     "output_type": "execute_result"
    }
   ],
   "source": [
    "roc_auc_score(y_test, y_prob)"
   ]
  },
  {
   "cell_type": "code",
   "execution_count": 22,
   "metadata": {},
   "outputs": [
    {
     "name": "stdout",
     "output_type": "stream",
     "text": [
      "Fitting 3 folds for each of 180 candidates, totalling 540 fits\n"
     ]
    }
   ],
   "source": [
    "cart_params = {'max_depth': range(1, 11),\n",
    "               \"min_samples_split\": range(2, 20)}\n",
    "\n",
    "cart_best_grid = GridSearchCV(cart_model,\n",
    "                              cart_params,\n",
    "                              cv=3,\n",
    "                              n_jobs=-1,\n",
    "                              verbose=True).fit(X_train, y_train)"
   ]
  },
  {
   "cell_type": "code",
   "execution_count": 23,
   "metadata": {},
   "outputs": [
    {
     "data": {
      "text/plain": [
       "{'max_depth': 4, 'min_samples_split': 2}"
      ]
     },
     "execution_count": 23,
     "metadata": {},
     "output_type": "execute_result"
    }
   ],
   "source": [
    "cart_best_grid.best_params_"
   ]
  },
  {
   "cell_type": "code",
   "execution_count": 24,
   "metadata": {},
   "outputs": [
    {
     "name": "stdout",
     "output_type": "stream",
     "text": [
      "              precision    recall  f1-score   support\n",
      "\n",
      "           0       0.99      0.76      0.86      7072\n",
      "           1       0.80      0.99      0.89      7072\n",
      "\n",
      "    accuracy                           0.87     14144\n",
      "   macro avg       0.90      0.87      0.87     14144\n",
      "weighted avg       0.90      0.87      0.87     14144\n",
      "\n"
     ]
    }
   ],
   "source": [
    "cart_final = DecisionTreeClassifier(**cart_best_grid.best_params_,\n",
    "                                    random_state=17).fit(X_train, y_train)\n",
    "\n",
    "y_pred = cart_final.predict(X_test)\n",
    "\n",
    "print(classification_report(y_test, y_pred))"
   ]
  },
  {
   "cell_type": "code",
   "execution_count": 25,
   "metadata": {},
   "outputs": [
    {
     "data": {
      "text/plain": [
       "[Text(0.6041666666666666, 0.9, 'x[4] <= 22.005\\ngini = 0.5\\nsamples = 3536\\nvalue = [1768, 1768]'),\n",
       " Text(0.3333333333333333, 0.7, 'x[3] <= 22028141.0\\ngini = 0.324\\nsamples = 2205\\nvalue = [448, 1757]'),\n",
       " Text(0.16666666666666666, 0.5, 'x[3] <= 12245388.5\\ngini = 0.114\\nsamples = 479\\nvalue = [29, 450]'),\n",
       " Text(0.08333333333333333, 0.3, 'x[2] <= 74904.422\\ngini = 0.04\\nsamples = 246\\nvalue = [5, 241]'),\n",
       " Text(0.041666666666666664, 0.1, 'gini = 0.01\\nsamples = 207\\nvalue = [1, 206]'),\n",
       " Text(0.125, 0.1, 'gini = 0.184\\nsamples = 39\\nvalue = [4, 35]'),\n",
       " Text(0.25, 0.3, 'x[3] <= 12268512.5\\ngini = 0.185\\nsamples = 233\\nvalue = [24, 209]'),\n",
       " Text(0.20833333333333334, 0.1, 'gini = 0.0\\nsamples = 1\\nvalue = [1, 0]'),\n",
       " Text(0.2916666666666667, 0.1, 'gini = 0.179\\nsamples = 232\\nvalue = [23, 209]'),\n",
       " Text(0.5, 0.5, 'x[2] <= 13707.417\\ngini = 0.368\\nsamples = 1726\\nvalue = [419, 1307]'),\n",
       " Text(0.4166666666666667, 0.3, 'x[0] <= 2467227.0\\ngini = 0.255\\nsamples = 20\\nvalue = [17, 3]'),\n",
       " Text(0.375, 0.1, 'gini = 0.49\\nsamples = 7\\nvalue = [4, 3]'),\n",
       " Text(0.4583333333333333, 0.1, 'gini = 0.0\\nsamples = 13\\nvalue = [13, 0]'),\n",
       " Text(0.5833333333333334, 0.3, 'x[0] <= 2480902.5\\ngini = 0.36\\nsamples = 1706\\nvalue = [402, 1304]'),\n",
       " Text(0.5416666666666666, 0.1, 'gini = 0.291\\nsamples = 638\\nvalue = [113, 525]'),\n",
       " Text(0.625, 0.1, 'gini = 0.395\\nsamples = 1068\\nvalue = [289, 779]'),\n",
       " Text(0.875, 0.7, 'x[4] <= 22.31\\ngini = 0.016\\nsamples = 1331\\nvalue = [1320, 11]'),\n",
       " Text(0.8333333333333334, 0.5, 'x[0] <= 3213910.0\\ngini = 0.316\\nsamples = 56\\nvalue = [45, 11]'),\n",
       " Text(0.75, 0.3, 'x[0] <= 2777312.5\\ngini = 0.49\\nsamples = 14\\nvalue = [6, 8]'),\n",
       " Text(0.7083333333333334, 0.1, 'gini = 0.32\\nsamples = 5\\nvalue = [4, 1]'),\n",
       " Text(0.7916666666666666, 0.1, 'gini = 0.346\\nsamples = 9\\nvalue = [2, 7]'),\n",
       " Text(0.9166666666666666, 0.3, 'x[3] <= 71224052.0\\ngini = 0.133\\nsamples = 42\\nvalue = [39, 3]'),\n",
       " Text(0.875, 0.1, 'gini = 0.093\\nsamples = 41\\nvalue = [39, 2]'),\n",
       " Text(0.9583333333333334, 0.1, 'gini = 0.0\\nsamples = 1\\nvalue = [0, 1]'),\n",
       " Text(0.9166666666666666, 0.5, 'gini = 0.0\\nsamples = 1275\\nvalue = [1275, 0]')]"
      ]
     },
     "execution_count": 25,
     "metadata": {},
     "output_type": "execute_result"
    },
    {
     "data": {
      "image/png": "[encoded data removed]",
      "text/plain": [
       "<Figure size 800x550 with 1 Axes>"
      ]
     },
     "metadata": {},
     "output_type": "display_data"
    }
   ],
   "source": [
    "tree.plot_tree(cart_final.fit(X_train, y_train))"
   ]
  },
  {
   "cell_type": "code",
   "execution_count": 26,
   "metadata": {},
   "outputs": [
    {
     "name": "stdout",
     "output_type": "stream",
     "text": [
      "|--- absolute_magnitude <= 22.01\n",
      "|   |--- miss_distance <= 22028141.00\n",
      "|   |   |--- miss_distance <= 12245388.50\n",
      "|   |   |   |--- relative_velocity <= 74904.42\n",
      "|   |   |   |   |--- class: 1\n",
      "|   |   |   |--- relative_velocity >  74904.42\n",
      "|   |   |   |   |--- class: 1\n",
      "|   |   |--- miss_distance >  12245388.50\n",
      "|   |   |   |--- miss_distance <= 12268512.50\n",
      "|   |   |   |   |--- class: 0\n",
      "|   |   |   |--- miss_distance >  12268512.50\n",
      "|   |   |   |   |--- class: 1\n",
      "|   |--- miss_distance >  22028141.00\n",
      "|   |   |--- relative_velocity <= 13707.42\n",
      "|   |   |   |--- id <= 2467227.00\n",
      "|   |   |   |   |--- class: 0\n",
      "|   |   |   |--- id >  2467227.00\n",
      "|   |   |   |   |--- class: 0\n",
      "|   |   |--- relative_velocity >  13707.42\n",
      "|   |   |   |--- id <= 2480902.50\n",
      "|   |   |   |   |--- class: 1\n",
      "|   |   |   |--- id >  2480902.50\n",
      "|   |   |   |   |--- class: 1\n",
      "|--- absolute_magnitude >  22.01\n",
      "|   |--- absolute_magnitude <= 22.31\n",
      "|   |   |--- id <= 3213910.00\n",
      "|   |   |   |--- id <= 2777312.50\n",
      "|   |   |   |   |--- class: 0\n",
      "|   |   |   |--- id >  2777312.50\n",
      "|   |   |   |   |--- class: 1\n",
      "|   |   |--- id >  3213910.00\n",
      "|   |   |   |--- miss_distance <= 71224052.00\n",
      "|   |   |   |   |--- class: 0\n",
      "|   |   |   |--- miss_distance >  71224052.00\n",
      "|   |   |   |   |--- class: 1\n",
      "|   |--- absolute_magnitude >  22.31\n",
      "|   |   |--- class: 0\n",
      "\n"
     ]
    }
   ],
   "source": [
    "tree_rules = export_text(cart_final, feature_names=list(X.columns))\n",
    "print(tree_rules)"
   ]
  },
  {
   "cell_type": "markdown",
   "metadata": {},
   "source": [
    "Ансамбли"
   ]
  },
  {
   "cell_type": "code",
   "execution_count": 29,
   "metadata": {},
   "outputs": [
    {
     "name": "stdout",
     "output_type": "stream",
     "text": [
      "              precision    recall  f1-score   support\n",
      "\n",
      "           0       0.88      0.82      0.85      7072\n",
      "           1       0.83      0.89      0.86      7072\n",
      "\n",
      "    accuracy                           0.85     14144\n",
      "   macro avg       0.86      0.85      0.85     14144\n",
      "weighted avg       0.86      0.85      0.85     14144\n",
      "\n"
     ]
    }
   ],
   "source": [
    "from sklearn.ensemble import BaggingClassifier\n",
    "\n",
    "bag_clf = BaggingClassifier().fit(X_train, y_train)\n",
    "\n",
    "y_pred = bag_clf.predict(X_test)\n",
    "\n",
    "print(classification_report(y_test, y_pred))"
   ]
  },
  {
   "cell_type": "code",
   "execution_count": null,
   "metadata": {},
   "outputs": [
    {
     "name": "stdout",
     "output_type": "stream",
     "text": [
      "              precision    recall  f1-score   support\n",
      "\n",
      "           0       0.97      0.76      0.86      7072\n",
      "           1       0.81      0.98      0.88      7072\n",
      "\n",
      "    accuracy                           0.87     14144\n",
      "   macro avg       0.89      0.87      0.87     14144\n",
      "weighted avg       0.89      0.87      0.87     14144\n",
      "\n"
     ]
    }
   ],
   "source": [
    "from sklearn.ensemble import GradientBoostingClassifier\n",
    "\n",
    "grad_clf = GradientBoostingClassifier().fit(X_train, y_train)\n",
    "\n",
    "y_pred = grad_clf.predict(X_test)\n",
    "\n",
    "print(classification_report(y_test, y_pred))"
   ]
  },
  {
   "cell_type": "code",
   "execution_count": null,
   "metadata": {},
   "outputs": [
    {
     "name": "stdout",
     "output_type": "stream",
     "text": [
      "              precision    recall  f1-score   support\n",
      "\n",
      "           0       0.92      0.79      0.85      7072\n",
      "           1       0.81      0.93      0.87      7072\n",
      "\n",
      "    accuracy                           0.86     14144\n",
      "   macro avg       0.87      0.86      0.86     14144\n",
      "weighted avg       0.87      0.86      0.86     14144\n",
      "\n"
     ]
    }
   ],
   "source": [
    "from sklearn.ensemble import StackingClassifier\n",
    "from sklearn.neighbors import KNeighborsClassifier\n",
    "\n",
    "stack_clf = StackingClassifier(estimators=[\n",
    "                                         ('en', DecisionTreeClassifier(criterion='entropy')),\n",
    "                                         ('gini', DecisionTreeClassifier(criterion='gini'))], final_estimator=KNeighborsClassifier(10)).fit(X_train, y_train)\n",
    "\n",
    "y_pred = stack_clf.predict(X_test)\n",
    "\n",
    "print(classification_report(y_test, y_pred))"
   ]
  },
  {
   "cell_type": "markdown",
   "metadata": {},
   "source": [
    "CatBoost Classifier"
   ]
  },
  {
   "cell_type": "markdown",
   "metadata": {},
   "source": [
    "Принцип работы CatBoost Classifier основан на градиентном бустинге. Алгоритм обучения состоит в последовательном построении ансамбля слабых моделей, каждая из которых участвует в предсказании и исправляет ошибки предыдущих моделей. Это позволяет достичь высокой точности классификации и предсказания в случаях, когда данные имеют сложную структуру и сильные нелинейности."
   ]
  },
  {
   "cell_type": "code",
   "execution_count": null,
   "metadata": {},
   "outputs": [
    {
     "name": "stdout",
     "output_type": "stream",
     "text": [
      "Learning rate set to 0.5\n",
      "0:\tlearn: 0.4780744\ttotal: 2.21ms\tremaining: 2.21ms\n",
      "1:\tlearn: 0.3908364\ttotal: 5.25ms\tremaining: 0us\n",
      "              precision    recall  f1-score   support\n",
      "\n",
      "           0       0.99      0.74      0.85      7072\n",
      "           1       0.79      0.99      0.88      7072\n",
      "\n",
      "    accuracy                           0.87     14144\n",
      "   macro avg       0.89      0.87      0.86     14144\n",
      "weighted avg       0.89      0.87      0.86     14144\n",
      "\n"
     ]
    }
   ],
   "source": [
    "from catboost import CatBoostClassifier\n",
    "\n",
    "CatBoostclf = CatBoostClassifier(iterations=2, depth=3).fit(X_train, y_train)\n",
    "\n",
    "y_pred = CatBoostclf.predict(X_test)\n",
    "\n",
    "print(classification_report(y_test, y_pred))"
   ]
  },
  {
   "cell_type": "markdown",
   "metadata": {},
   "source": [
    "CART"
   ]
  },
  {
   "cell_type": "code",
   "execution_count": null,
   "metadata": {},
   "outputs": [],
   "source": [
    "class Node:\n",
    "    def __init__(self, depth: int) -> None:\n",
    "        self.value = None                   # кол-во элементов\n",
    "        self.left: Node = None\n",
    "        self.right: Node = None\n",
    "        self.depht: int = depth             # глубина вершины\n",
    "    \n",
    "    def get_left_node(self):\n",
    "        if not self.left:\n",
    "            self.left = Node(self.depht + 1)\n",
    "            \n",
    "    def get_right_node(self):\n",
    "        if not self.right:\n",
    "            self.right = Node(self.depht + 1)"
   ]
  },
  {
   "cell_type": "code",
   "execution_count": null,
   "metadata": {},
   "outputs": [],
   "source": [
    "class Split:\n",
    "    def __init__(self, feature, threshold):\n",
    "        self.feature = feature\n",
    "        self.threshold = threshold"
   ]
  },
  {
   "cell_type": "code",
   "execution_count": null,
   "metadata": {},
   "outputs": [],
   "source": [
    "class CARTNodeData:\n",
    "    def __init__(self, split, X, y) -> None:\n",
    "        self.split: Split = split\n",
    "        self.X = X\n",
    "        self.y = y"
   ]
  },
  {
   "cell_type": "code",
   "execution_count": null,
   "metadata": {},
   "outputs": [],
   "source": [
    "class CARTClassifir:\n",
    "    def __init__(self, max_depht: 4):\n",
    "        self.max_depht = max_depht\n",
    "        self.tree_root: Node = Node(depth=0)\n",
    "    \n",
    "    def fit(self, X_tr, y_tr):\n",
    "        self.__build_children(self.tree_root, X_tr, y_tr)\n",
    "        \n",
    "    def predict(self, X_test: pd.DataFrame):\n",
    "        y_pred = []\n",
    "        for index, feature in X_test.iterrows():\n",
    "            depth = 0\n",
    "            node = self.tree_root\n",
    "            while(depth != self.max_depht):\n",
    "                if feature[node.value.split.feature] > node.value.split.threshold:\n",
    "                    node = node.right\n",
    "                else:\n",
    "                    node = node.left\n",
    "                depth += 1\n",
    "            y_pred.append(node.value.split.y.mode())\n",
    "            \n",
    "        return y_pred\n",
    "    \n",
    "    \n",
    "    def __build_children(self, node: Node, X: pd.DataFrame, y: pd.DataFrame):\n",
    "        split = self.__best_split(X, y)\n",
    "        \n",
    "        node.value = CARTNodeData(split, X, y)\n",
    "        data_left_x, data_left_y, data_right_x, data_right_y = self.__split_data(X, y, split)\n",
    "        \n",
    "        if node.depht <= self.max_depht:\n",
    "            self.__build_children(node.get_left_node(), data_left_x, data_left_y)\n",
    "            self.__build_children(node.get_right_node(), data_right_x, data_right_y)\n",
    "        \n",
    "    def __best_split(self, X: pd.DataFrame, y: pd.DataFrame) -> Split:\n",
    "        features = X.columns\n",
    "        best_split = Split()\n",
    "        best_gain = float('inf')\n",
    "        \n",
    "        for feature in features:\n",
    "            thresholds = X[feature].unique()\n",
    "            for threshold in thresholds:\n",
    "                split = Split(feature, threshold)\n",
    "                gain = self.__info_gain(X, y, split, self.calc_answer)\n",
    "                if gain < best_gain:\n",
    "                    best_split = split\n",
    "                    best_gain = gain\n",
    "        \n",
    "        return best_split\n",
    "    \n",
    "    def __info_gain(self, X: pd.DataFrame, y: pd.DataFrame, split: Split) -> int:\n",
    "        data_left_x, data_left_y, data_right_x, data_right_y = self.__split_data(X, y, split)\n",
    "        G = data_left_y.count() / y.count() * self.__gini_index(y, data_left_y, data_right_y) + data_right_y.count() / y.count() * self.__gini_index(y, data_left_y, data_right_y)\n",
    "        return G\n",
    "    \n",
    "    def __split_data(self, X: pd.DataFrame, y: pd.DataFrame, split: Split) -> list(pd.DataFrame):\n",
    "        X_left = X.transform(lambda x: x <= split.threshold).to_numpy()\n",
    "        X_right = X.transform(lambda x: x > split.threshold).to_numpy()\n",
    "        y_left = y.to_numpy().take(X_left.index.to_numpy())\n",
    "        y_right = y.to_numpy().take(X_right.index.to_numpy())\n",
    "        \n",
    "        X_left = pd.DataFrame(X_left)\n",
    "        X_right = pd.DataFrame(X_right)\n",
    "        y_left = pd.DataFrame(y_left)\n",
    "        y_right = pd.DataFrame(y_right)\n",
    "        \n",
    "        return list(X_left, y_left, X_right, y_right)\n",
    "        \n",
    "    def __gini_index(self, y: pd.DataFrame, y_left: pd.DataFrame, y_right: pd.DataFrame) -> int:\n",
    "        G_index = 1 - sum( (y_left.count() / y.count()) ** 2 + (y_right.count() / y.count()) ** 2 )\n",
    "        return G_index"
   ]
  }
 ],
 "metadata": {
  "kernelspec": {
   "display_name": "venv",
   "language": "python",
   "name": "python3"
  },
  "language_info": {
   "codemirror_mode": {
    "name": "ipython",
    "version": 3
   },
   "file_extension": ".py",
   "mimetype": "text/x-python",
   "name": "python",
   "nbconvert_exporter": "python",
   "pygments_lexer": "ipython3",
   "version": "3.11.5"
  }
 },
 "nbformat": 4,
 "nbformat_minor": 2
}
